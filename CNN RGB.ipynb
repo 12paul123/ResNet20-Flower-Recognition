{
 "cells": [
  {
   "cell_type": "code",
   "execution_count": 89,
   "id": "fa56dc13",
   "metadata": {},
   "outputs": [],
   "source": [
    "data_dir = \"C:/Users/elev/Documents/machine learning/CNN Flowers\"\n",
    "train_path = data_dir + \"/flowers\""
   ]
  },
  {
   "cell_type": "code",
   "execution_count": null,
   "id": "understood-adjustment",
   "metadata": {},
   "outputs": [],
   "source": [
    "import cv2, os\n",
    "import torchvision.transforms as transforms\n",
    "import matplotlib.pyplot as plt\n",
    "from PIL import Image\n",
    "\n",
    "transform = transforms.Compose([\n",
    "    transforms.ToTensor(),\n",
    "    transforms.Resize((32, 32)),\n",
    "    transforms.Normalize(mean=[0.5, 0.5, 0.5], std=[0.5, 0.5, 0.5])\n",
    "])\n",
    "\n",
    "augment = transforms.Compose([\n",
    "    transforms.ToTensor(),\n",
    "    transforms.Resize((100, 100)),\n",
    "    transforms.RandomRotation((0, 180)),\n",
    "    transforms.CenterCrop(38),\n",
    "    transforms.RandomCrop(size=(32, 32)),\n",
    "    transforms.RandomHorizontalFlip(p=0.5),\n",
    "    transforms.ColorJitter(brightness=0.1, contrast=0.1, saturation=0.1, hue=0),\n",
    "    transforms.Normalize(mean=[0.5, 0.5, 0.5], std=[0.5, 0.5, 0.5])\n",
    "])\n",
    "\n",
    "# ResNet34; input 224x224\n",
    "# ResNet20; input 32x32\n",
    "img_size = 32\n",
    "\n",
    "test = []\n",
    "test_labels = []\n",
    "\n",
    "train = []\n",
    "labels = []\n",
    "\n",
    "classes = {}\n",
    "\n",
    "for dirnum, dirname in enumerate(os.listdir(train_path)):\n",
    "    for index, filename in enumerate(os.listdir(os.path.join(train_path, dirname))):\n",
    "        file_path = os.path.join(train_path, dirname, filename)\n",
    "        img = cv2.imread(file_path, cv2.IMREAD_COLOR)\n",
    "        #img = cv2.resize(img, (img_size, img_size), interpolation = cv2.INTER_AREA)\n",
    "        img_rgb = cv2.cvtColor(img, cv2.COLOR_BGR2RGB)        \n",
    "\n",
    "        if index > 90:\n",
    "            train.append(transform(img_rgb))\n",
    "            labels.append(dirnum)\n",
    "            train.append(augment(img_rgb))\n",
    "            labels.append(dirnum)\n",
    "        else:\n",
    "            test.append(transform(img_rgb))\n",
    "            test_labels.append(dirnum)\n",
    "    \n",
    "    classes[dirnum] = dirname\n",
    "\n",
    "def translate_label(y, translation=classes):\n",
    "    return pd.series(y).apply(lambda y: translation[int(y)]).values"
   ]
  },
  {
   "cell_type": "code",
   "execution_count": null,
   "id": "ambient-appointment",
   "metadata": {},
   "outputs": [],
   "source": [
    "from sklearn.model_selection import train_test_split\n",
    "import torch\n",
    "\n",
    "#x_train, x_test, y_train, y_test = train_test_split(torch.stack(train), torch.Tensor(labels).long(), test_size=0.1, random_state=10)"
   ]
  },
  {
   "cell_type": "code",
   "execution_count": null,
   "id": "posted-stewart",
   "metadata": {},
   "outputs": [],
   "source": [
    "x_train = torch.stack(train)\n",
    "y_train = torch.Tensor(labels).long()\n",
    "\n",
    "x_test = torch.stack(test)\n",
    "y_test = torch.Tensor(test_labels).long()"
   ]
  },
  {
   "cell_type": "code",
   "execution_count": null,
   "id": "external-extension",
   "metadata": {},
   "outputs": [],
   "source": [
    "import numpy as np\n",
    "\n",
    "def show_image(image):\n",
    "    tensor = image.unsqueeze_(0)\n",
    "    image = np.squeeze(tensor.numpy())\n",
    "    image = (image - np.min(image)) / (np.max(image) - np.min(image))\n",
    "    image = image.transpose((1, 2, 0))\n",
    "    plt.imshow(image)\n",
    "\n",
    "show_image(x_train[0])"
   ]
  },
  {
   "cell_type": "code",
   "execution_count": null,
   "id": "median-fellow",
   "metadata": {},
   "outputs": [],
   "source": [
    "for i in range(len(classes)):\n",
    "    print(classes[i], int((y_train == i).float().sum()))"
   ]
  },
  {
   "cell_type": "code",
   "execution_count": null,
   "id": "proved-camcorder",
   "metadata": {},
   "outputs": [],
   "source": [
    "import torch.nn as nn\n",
    "\n",
    "def conv3x3(inplanes, planes, stride=1):\n",
    "    return nn.Conv2d(\n",
    "        in_channels=inplanes,\n",
    "        out_channels=planes,\n",
    "        kernel_size=(3, 3),\n",
    "        stride=stride,\n",
    "        padding=1,\n",
    "        bias=False,\n",
    "    )\n",
    "\n",
    "def conv1x1(inplanes, planes, stride=1):\n",
    "    return nn.Conv2d(\n",
    "        in_channels=inplanes,\n",
    "        out_channels=planes,\n",
    "        kernel_size=(1, 1),\n",
    "        stride=stride,\n",
    "        padding=0,\n",
    "        bias=False,\n",
    "    )\n",
    "\n",
    "class BasicBlock(nn.Module):\n",
    "    def __init__(self, inplanes, planes, stride=1, downsample=None):\n",
    "        super(BasicBlock, self).__init__()\n",
    "        self.relu = nn.ReLU(inplace=True)\n",
    "        self.conv1 = conv3x3(inplanes, planes, stride)\n",
    "        self.bn1 = nn.BatchNorm2d(planes)\n",
    "        self.conv2 = conv3x3(planes, planes)\n",
    "        self.bn2 = nn.BatchNorm2d(planes)\n",
    "        self.downsample = downsample\n",
    "        \n",
    "    def forward(self, x):\n",
    "        identity = x\n",
    "\n",
    "        out = self.conv1(x)\n",
    "        out = self.bn1(out)\n",
    "        out = self.relu(out)\n",
    "\n",
    "        out = self.conv2(out)\n",
    "        out = self.bn2(out)\n",
    "        \n",
    "        if self.downsample is not None:\n",
    "            identity = self.downsample(x)\n",
    "        \n",
    "        out += identity\n",
    "        return self.relu(out)"
   ]
  },
  {
   "cell_type": "code",
   "execution_count": null,
   "id": "celtic-shopper",
   "metadata": {},
   "outputs": [],
   "source": [
    "import torch.nn as nn\n",
    "\n",
    "class ResNet20(nn.Module):\n",
    "    def __init__(self, num_classes):\n",
    "        super(ResNet20, self).__init__()\n",
    "        \n",
    "        self.convolution_1 = nn.Sequential(\n",
    "            conv3x3(3, 16),\n",
    "            nn.BatchNorm2d(16),\n",
    "            nn.ReLU()\n",
    "        )\n",
    "        \n",
    "        self.convolutional_layer_1 = self.make_layer(16, 16, 3, 1)\n",
    "        self.convolutional_layer_2 = self.make_layer(16, 32, 3, 2)\n",
    "        self.convolutional_layer_3 = self.make_layer(32, 64, 3, 2)    \n",
    "        \n",
    "        self.avgPool2d = nn.AvgPool2d(kernel_size=(2, 2), stride=2)\n",
    "        self.linear = nn.Linear(4*4*64, num_classes)\n",
    "        \n",
    "    def forward(self, x):\n",
    "        # Start Convolutional Layers\n",
    "        x = self.convolution_1(x)\n",
    "        x = self.convolutional_layer_1(x)\n",
    "        x = self.convolutional_layer_2(x)\n",
    "        x = self.convolutional_layer_3(x)\n",
    "        x = self.avgPool2d(x)\n",
    "        \n",
    "        # Flatten input\n",
    "        x = torch.flatten(x, 1)\n",
    "        \n",
    "        # Start Neural Network\n",
    "        x = self.linear(x)\n",
    "        return x\n",
    "    \n",
    "    def make_layer(self, inplanes, planes, blocks, stride=1):\n",
    "        layer = []\n",
    "        downsample = None\n",
    "        \n",
    "        if stride != 1 or inplanes != planes:\n",
    "            downsample = nn.Sequential(\n",
    "                conv1x1(inplanes, planes, stride=stride),\n",
    "                nn.BatchNorm2d(planes),\n",
    "            )\n",
    "        \n",
    "        # Add first block\n",
    "        layer.append(BasicBlock(inplanes, planes, stride, downsample))\n",
    "        \n",
    "        # Add the rest of the blocks\n",
    "        for _ in range(1, blocks):\n",
    "            layer.append(BasicBlock(planes, planes))\n",
    "            \n",
    "        return nn.Sequential(*layer)\n",
    "\n",
    "model = ResNet20(len(classes))"
   ]
  },
  {
   "cell_type": "code",
   "execution_count": 8,
   "id": "completed-southeast",
   "metadata": {},
   "outputs": [],
   "source": [
    "import torch.nn as nn\n",
    "\n",
    "class ResNet34(nn.Module):\n",
    "    def __init__(self, num_classes):\n",
    "        super(ResNet34, self).__init__()\n",
    "        \n",
    "        self.convolution_1 = nn.Sequential(\n",
    "            nn.Conv2d(in_channels=3, out_channels=64, kernel_size=(7, 7), stride=2, padding=3),\n",
    "            nn.BatchNorm2d(64),\n",
    "            nn.ReLU(),\n",
    "            nn.MaxPool2d(kernel_size=(3,3), stride=2, padding=1)\n",
    "        )\n",
    "        \n",
    "        self.convolutional_layer_1 = self.make_layer(64, 64, 3, 1)\n",
    "        self.convolutional_layer_2 = self.make_layer(64, 128, 3, 2)\n",
    "        self.convolutional_layer_3 = self.make_layer(128, 256, 3, 2)\n",
    "        self.convolutional_layer_4 = self.make_layer(256, 512, 3, 2)\n",
    "        \n",
    "        self.avgPool2d = nn.AvgPool2d(kernel_size=(4,4), stride=2, padding=0)\n",
    "        self.linear = nn.Linear(2*2*512, num_classes)\n",
    "        \n",
    "    def forward(self, x):\n",
    "        # Start Convolutional Layers\n",
    "        x = self.convolution_1(x)\n",
    "        x = self.convolutional_layer_1(x)\n",
    "        x = self.convolutional_layer_2(x)\n",
    "        x = self.convolutional_layer_3(x)\n",
    "        x = self.convolutional_layer_4(x)\n",
    "        x = self.avgPool2d(x)\n",
    "        \n",
    "        # Flatten input\n",
    "        x = torch.flatten(x, 1)\n",
    "        \n",
    "        # Start Neural Network\n",
    "        x = self.linear(x)\n",
    "        return x\n",
    "    \n",
    "    def make_layer(self, inplanes, planes, blocks, stride=1):\n",
    "        layer = []\n",
    "        downsample = None\n",
    "        \n",
    "        if stride != 1 or inplanes != planes:\n",
    "            downsample = nn.Sequential(\n",
    "                conv1x1(inplanes, planes, stride=stride),\n",
    "                nn.BatchNorm2d(planes),\n",
    "            )\n",
    "        \n",
    "        # Add first layer\n",
    "        layer.append(BasicBlock(inplanes, planes, stride, downsample))\n",
    "        \n",
    "        # Add the rest of the layers\n",
    "        for _ in range(1, blocks):\n",
    "            layer.append(BasicBlock(planes, planes))\n",
    "            \n",
    "        return nn.Sequential(*layer)\n",
    "\n",
    "model = ResNet34(len(classes))"
   ]
  },
  {
   "cell_type": "code",
   "execution_count": null,
   "id": "spread-index",
   "metadata": {},
   "outputs": [],
   "source": [
    "def initialize_weights(m):\n",
    "    if isinstance(m, nn.Conv2d):\n",
    "        nn.init.kaiming_uniform_(m.weight.data, nonlinearity='relu')\n",
    "        if m.bias != None:\n",
    "            nn.init.constant_(m.bias.data, 0)\n",
    "    elif isinstance(m, nn.BatchNorm2d):\n",
    "        nn.init.constant_(m.weight.data, 1)\n",
    "        nn.init.constant_(m.bias.data, 0)\n",
    "    elif isinstance(m, nn.Linear):\n",
    "        nn.init.kaiming_uniform_(m.weight.data)\n",
    "        nn.init.constant_(m.bias.data, 0)"
   ]
  },
  {
   "cell_type": "code",
   "execution_count": null,
   "id": "unexpected-people",
   "metadata": {},
   "outputs": [],
   "source": [
    "model.apply(initialize_weights)\n",
    "criterion = nn.CrossEntropyLoss()\n",
    "\n",
    "device = 'cuda' if torch.cuda.is_available() else 'cpu'\n",
    "model = model.to(device)\n",
    "\n",
    "#model.load_state_dict(torch.load(\"ResNet20.pt\"))\n",
    "\n",
    "# checking if GPU is available\n",
    "if torch.cuda.is_available():\n",
    "    criterion = criterion.cuda()"
   ]
  },
  {
   "cell_type": "code",
   "execution_count": null,
   "id": "criminal-saturday",
   "metadata": {},
   "outputs": [],
   "source": [
    "optimizer = torch.optim.SGD(model.parameters(), lr=0.08, momentum=0.9, weight_decay=0.0001)\n",
    "#optimizer = torch.optim.Adam(model.parameters(), lr=0.005)"
   ]
  },
  {
   "cell_type": "code",
   "execution_count": null,
   "id": "looking-arizona",
   "metadata": {},
   "outputs": [],
   "source": [
    "import json\n",
    "def load_file(load=True):\n",
    "    try:\n",
    "        if load:\n",
    "            with open('model_score.json', 'r') as f:\n",
    "                return json.load(f)\n",
    "    except:\n",
    "        pass\n",
    "    \n",
    "    return {\n",
    "        'Batch-Size': batch_size,\n",
    "        'Epochs': 0,\n",
    "        'Train-Accuracy': [],\n",
    "        'Test-Accuracy': [],\n",
    "        'Loss': [],\n",
    "    }\n",
    "\n",
    "def save_file(score):\n",
    "    json_object = json.dumps(score, indent = 4)\n",
    "    with open(\"model_score.json\", \"w\") as file:\n",
    "        file.write(json_object)"
   ]
  },
  {
   "cell_type": "code",
   "execution_count": null,
   "id": "dimensional-gabriel",
   "metadata": {},
   "outputs": [],
   "source": [
    "from torch.utils.data import DataLoader, TensorDataset\n",
    "\n",
    "batch_size = 32\n",
    "\n",
    "trainset = TensorDataset(x_train, y_train)\n",
    "testset = TensorDataset(x_test, y_test)\n",
    "\n",
    "train_loader = DataLoader(trainset, batch_size=batch_size, shuffle=True)\n",
    "test_loader = DataLoader(testset, shuffle=True)"
   ]
  },
  {
   "cell_type": "code",
   "execution_count": null,
   "id": "norman-laptop",
   "metadata": {},
   "outputs": [],
   "source": [
    "score = load_file(False)"
   ]
  },
  {
   "cell_type": "code",
   "execution_count": null,
   "id": "banner-cherry",
   "metadata": {},
   "outputs": [],
   "source": [
    "model.train()\n",
    "iterations = 20\n",
    "\n",
    "for epoch in range(iterations):\n",
    "    \n",
    "    correct = 0.0\n",
    "    running_loss = 0.0\n",
    "    \n",
    "    try:\n",
    "        for i, (x_batch, y_batch) in enumerate(train_loader):\n",
    "            optimizer.zero_grad()\n",
    "            y_batch_pred = model(x_batch)\n",
    "            loss = criterion(y_batch_pred, y_batch)\n",
    "            \n",
    "            loss.backward()\n",
    "            optimizer.step()\n",
    "\n",
    "            running_loss += loss.item()\n",
    "\n",
    "            preds = y_batch_pred.max(dim = 1)[1]\n",
    "            correct += (preds == y_batch).float().sum()\n",
    "\n",
    "        epoch_loss = float(running_loss / i)\n",
    "        train_acc = float(100 * correct / len(trainset))\n",
    "        \n",
    "        with torch.no_grad():\n",
    "            y_test_pred = model(x_test)\n",
    "            preds = y_test_pred.max(dim = 1)[1]\n",
    "            test_acc = float(100 * (preds == y_test).float().sum() / len(y_test))\n",
    "        \n",
    "        score['Train-Accuracy'].append(train_acc)\n",
    "        score['Test-Accuracy'].append(test_acc)\n",
    "        score['Loss'].append(epoch_loss)\n",
    "        score['Epochs'] += 1\n",
    "\n",
    "        print('Epoch [%d/%d] Loss: %.4f Train-Accuracy: %.3f Test-Accuracy: %.3f' % (epoch+1, iterations, epoch_loss, train_acc, test_acc))\n",
    "    except KeyboardInterrupt:\n",
    "        break\n",
    "        \n",
    "score['Batch-Size'] = batch_size"
   ]
  },
  {
   "cell_type": "code",
   "execution_count": 34,
   "id": "champion-commissioner",
   "metadata": {},
   "outputs": [],
   "source": [
    "save_file(score)"
   ]
  },
  {
   "cell_type": "code",
   "execution_count": 35,
   "id": "finite-terror",
   "metadata": {
    "scrolled": true
   },
   "outputs": [
    {
     "name": "stdout",
     "output_type": "stream",
     "text": [
      "astilbe: 68.919\n",
      "bellflower: 70.745\n",
      "black_eyed_susan: 79.348\n",
      "calendula: 41.667\n",
      "california_poppy: 65.789\n",
      "carnation: 45.550\n",
      "common_daisy: 75.000\n",
      "coreopsis: 73.762\n",
      "daffodil: 83.333\n",
      "dandelion: 88.106\n",
      "iris: 85.641\n",
      "magnolia: 60.829\n",
      "rose: 76.382\n",
      "sunflower: 87.215\n",
      "tulip: 83.945\n",
      "water_lily: 61.538\n"
     ]
    }
   ],
   "source": [
    "# Calculate class accuracies\n",
    "with torch.no_grad():\n",
    "    output = model(x_test)\n",
    "    preds = output.max(dim = 1)[1]\n",
    "\n",
    "    test_acc = (preds == y_test)\n",
    "    for key, value in classes.items():\n",
    "        c = (test_acc * (y_test == key)).float().sum()\n",
    "        class_acc = float(100 * c / (y_test == key).float().sum())\n",
    "        print('%s: %.3f' % (value, class_acc))"
   ]
  },
  {
   "cell_type": "code",
   "execution_count": 36,
   "id": "authorized-grenada",
   "metadata": {},
   "outputs": [
    {
     "name": "stdout",
     "output_type": "stream",
     "text": [
      "0.8407407999038696 rose water_lily\n"
     ]
    },
    {
     "data": {
      "image/png": "[encoded data removed]",
      "text/plain": [
       "<Figure size 432x288 with 1 Axes>"
      ]
     },
     "metadata": {
      "needs_background": "light"
     },
     "output_type": "display_data"
    }
   ],
   "source": [
    "import torch.nn.functional as F\n",
    "from random import randint\n",
    "import matplotlib.pyplot as plt\n",
    "import numpy as np\n",
    "\n",
    "def predict_random_image(amount=1):\n",
    "    for i in range(amount):\n",
    "        with torch.no_grad():\n",
    "            index = randint(0, len(x_test)-1)\n",
    "            model.eval()\n",
    "\n",
    "            X = x_test[index].unsqueeze_(0)\n",
    "            y = y_test[index]\n",
    "\n",
    "            outputs = model(X)\n",
    "            prob = outputs.softmax(1)\n",
    "\n",
    "            top_p, top_class = prob.topk(1, dim = 1, largest=True)\n",
    "            \n",
    "            print(top_p.item(), classes[top_class.item()], classes[y.item()])\n",
    "\n",
    "            show_image(X)\n",
    "        \n",
    "predict_random_image(1)"
   ]
  },
  {
   "cell_type": "code",
   "execution_count": 37,
   "id": "nutritional-prototype",
   "metadata": {},
   "outputs": [
    {
     "name": "stdout",
     "output_type": "stream",
     "text": [
      "1.0 common_daisy\n",
      "1.0 california_poppy\n"
     ]
    },
    {
     "data": {
      "image/png": "[encoded data removed]",
      "text/plain": [
       "<Figure size 432x288 with 1 Axes>"
      ]
     },
     "metadata": {
      "needs_background": "light"
     },
     "output_type": "display_data"
    }
   ],
   "source": [
    "images_path = data_dir + \"/images_taken\"\n",
    "from PIL import Image\n",
    "\n",
    "transform = transforms.Compose([\n",
    "    transforms.ToTensor(),\n",
    "    transforms.Normalize((0.5, 0.5, 0.5), (0.5, 0.5, 0.5))\n",
    "])\n",
    "\n",
    "for filename in os.listdir(os.path.join(images_path)):\n",
    "    file_path = os.path.join(images_path, filename)\n",
    "    \n",
    "    img = cv2.imread(file_path, cv2.IMREAD_COLOR)\n",
    "    img = cv2.resize(img, (img_size, img_size), interpolation = cv2.INTER_AREA).astype('float32')\n",
    "    img_rgb = cv2.cvtColor(img, cv2.COLOR_BGR2RGB)\n",
    "    tensor = transform(img_rgb).unsqueeze_(0)\n",
    "    \n",
    "    with torch.no_grad():\n",
    "        model.eval()\n",
    "\n",
    "        outputs = model(tensor)\n",
    "        prob = outputs.softmax(1)\n",
    "\n",
    "        top_p, top_class = prob.topk(1, dim = 1, largest=True)\n",
    "        print(top_p.item(), classes[top_class.item()])\n",
    "    \n",
    "    show_image(tensor)"
   ]
  },
  {
   "cell_type": "code",
   "execution_count": 38,
   "id": "exterior-joyce",
   "metadata": {},
   "outputs": [
    {
     "name": "stdout",
     "output_type": "stream",
     "text": [
      "Accuracy score: 71.728%\n"
     ]
    }
   ],
   "source": [
    "from sklearn.metrics import accuracy_score\n",
    "\n",
    "with torch.no_grad():\n",
    "    output = model(torch.Tensor(x_test))\n",
    "    y_pred = torch.argmax(output, dim=1)\n",
    "    \n",
    "    score = accuracy_score(y_test, y_pred)\n",
    "    print(\"Accuracy score: {0:.3f}%\".format(score*100))"
   ]
  },
  {
   "cell_type": "code",
   "execution_count": 39,
   "id": "adjacent-carolina",
   "metadata": {},
   "outputs": [],
   "source": [
    "torch.save(model.state_dict(), \"ResNet20.pt\")"
   ]
  },
  {
   "cell_type": "code",
   "execution_count": 54,
   "id": "removable-feeding",
   "metadata": {},
   "outputs": [
    {
     "data": {
      "image/png": "[encoded data removed]",
      "text/plain": [
       "<Figure size 432x288 with 1 Axes>"
      ]
     },
     "metadata": {
      "needs_background": "light"
     },
     "output_type": "display_data"
    }
   ],
   "source": [
    "import matplotlib.pyplot as plt\n",
    "\n",
    "x = [i for i in range(score[\"Epochs\"])]\n",
    "\n",
    "plt.plot(x, score[\"Train-Accuracy\"], label=\"Train-Accuracy\")\n",
    "plt.plot(x, score[\"Test-Accuracy\"], label=\"Test-Accuracy\")\n",
    "plt.title(\"Accuracy after 17 epochs\")\n",
    "plt.legend()\n",
    "plt.show()"
   ]
  },
  {
   "cell_type": "code",
   "execution_count": 56,
   "id": "stock-credit",
   "metadata": {},
   "outputs": [
    {
     "data": {
      "image/png": "[encoded data removed]",
      "text/plain": [
       "<Figure size 432x288 with 1 Axes>"
      ]
     },
     "metadata": {
      "needs_background": "light"
     },
     "output_type": "display_data"
    }
   ],
   "source": [
    "plt.plot(x, score[\"Loss\"])\n",
    "plt.title(\"Loss after 17 epochs\")\n",
    "plt.show()"
   ]
  },
  {
   "cell_type": "code",
   "execution_count": null,
   "id": "given-badge",
   "metadata": {},
   "outputs": [],
   "source": []
  }
 ],
 "metadata": {
  "kernelspec": {
   "display_name": "Python 3",
   "language": "python",
   "name": "python3"
  },
  "language_info": {
   "codemirror_mode": {
    "name": "ipython",
    "version": 3
   },
   "file_extension": ".py",
   "mimetype": "text/x-python",
   "name": "python",
   "nbconvert_exporter": "python",
   "pygments_lexer": "ipython3",
   "version": "3.9.0"
  }
 },
 "nbformat": 4,
 "nbformat_minor": 5
}
