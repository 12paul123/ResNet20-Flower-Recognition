{
 "cells": [
  {
   "cell_type": "code",
   "execution_count": 1,
   "id": "fa56dc13",
   "metadata": {},
   "outputs": [],
   "source": [
    "data_dir = \"C:/Users/elev/Documents/machine learning/CNN Flowers\"\n",
    "train_path = data_dir + \"/flowers\""
   ]
  },
  {
   "cell_type": "code",
   "execution_count": 2,
   "id": "understood-adjustment",
   "metadata": {},
   "outputs": [],
   "source": [
    "import cv2, os\n",
    "import torchvision.transforms as transforms\n",
    "import matplotlib.pyplot as plt\n",
    "\n",
    "transform = transforms.Compose([\n",
    "    transforms.ToTensor(),\n",
    "    transforms.Resize((32, 32)),\n",
    "    transforms.Normalize(mean=[0.5, 0.5, 0.5], std=[0.5, 0.5, 0.5])\n",
    "])\n",
    "\n",
    "# ResNet34; input 224x224\n",
    "# ResNet20; input 32x32\n",
    "img_size = 32\n",
    "\n",
    "data = []\n",
    "labels = []\n",
    "\n",
    "classes = {}\n",
    "\n",
    "for dirnum, dirname in enumerate(os.listdir(train_path)):\n",
    "    for filename in os.listdir(os.path.join(train_path, dirname)):\n",
    "        file_path = os.path.join(train_path, dirname, filename)\n",
    "        img = cv2.imread(file_path, cv2.IMREAD_COLOR)\n",
    "        img_rgb = cv2.cvtColor(img, cv2.COLOR_BGR2RGB)        \n",
    "\n",
    "        data.append(transform(img_rgb))\n",
    "        labels.append(dirnum)\n",
    "    \n",
    "    classes[dirnum] = dirname\n",
    "\n",
    "def translate_label(y, translation=classes):\n",
    "    return pd.series(y).apply(lambda y: translation[int(y)]).values"
   ]
  },
  {
   "cell_type": "code",
   "execution_count": 3,
   "id": "incredible-segment",
   "metadata": {},
   "outputs": [],
   "source": [
    "from sklearn.model_selection import train_test_split\n",
    "import torch\n",
    "\n",
    "x_train, x_test, y_train, y_test = train_test_split(\n",
    "    torch.stack(data),\n",
    "    torch.Tensor(labels).long(),\n",
    "    test_size=0.1,\n",
    "    random_state=10\n",
    ")"
   ]
  },
  {
   "cell_type": "code",
   "execution_count": 49,
   "id": "relative-belle",
   "metadata": {},
   "outputs": [
    {
     "data": {
      "image/png": "[encoded data removed]",
      "text/plain": [
       "<Figure size 432x288 with 1 Axes>"
      ]
     },
     "metadata": {
      "needs_background": "light"
     },
     "output_type": "display_data"
    }
   ],
   "source": [
    "import numpy as np\n",
    "from random import randint\n",
    "\n",
    "def show_image(image):\n",
    "    tensor = image.unsqueeze_(0)\n",
    "    image = np.squeeze(tensor.numpy())\n",
    "    image = (image - np.min(image)) / (np.max(image) - np.min(image))\n",
    "    image = image.transpose((1, 2, 0))\n",
    "    plt.imshow(image)\n",
    "\n",
    "index = randint(0, len(x_test)-1)\n",
    "show_image(x_train[index])"
   ]
  },
  {
   "cell_type": "code",
   "execution_count": 114,
   "id": "median-fellow",
   "metadata": {},
   "outputs": [
    {
     "data": {
      "image/png": "[encoded data removed]",
      "text/plain": [
       "<Figure size 720x360 with 1 Axes>"
      ]
     },
     "metadata": {
      "needs_background": "light"
     },
     "output_type": "display_data"
    }
   ],
   "source": [
    "values = []\n",
    "bottom = 650\n",
    "\n",
    "import pandas as pd\n",
    "for i in range(len(classes)):\n",
    "    values.append([int((y_train == i).float().sum()) - bottom, classes[i]])\n",
    "\n",
    "df = pd.DataFrame(\n",
    "    values,\n",
    "    columns=['Sizes', 'Flowers']\n",
    ").set_index('Flowers').plot(\n",
    "    title=\"Images per class\",\n",
    "    kind=\"bar\",\n",
    "    color=\"k\",\n",
    "    bottom=bottom,\n",
    "    width=0.6,\n",
    "    figsize=(10, 5)\n",
    ")"
   ]
  },
  {
   "cell_type": "code",
   "execution_count": 6,
   "id": "proved-camcorder",
   "metadata": {},
   "outputs": [],
   "source": [
    "import torch.nn as nn\n",
    "\n",
    "def conv3x3(inplanes, planes, stride=1):\n",
    "    return nn.Conv2d(\n",
    "        in_channels=inplanes,\n",
    "        out_channels=planes,\n",
    "        kernel_size=(3, 3),\n",
    "        stride=stride,\n",
    "        padding=1,\n",
    "        bias=False,\n",
    "    )\n",
    "\n",
    "def conv1x1(inplanes, planes, stride=1):\n",
    "    return nn.Conv2d(\n",
    "        in_channels=inplanes,\n",
    "        out_channels=planes,\n",
    "        kernel_size=(1, 1),\n",
    "        stride=stride,\n",
    "        padding=0,\n",
    "        bias=False,\n",
    "    )\n",
    "\n",
    "class BasicBlock(nn.Module):\n",
    "    def __init__(self, inplanes, planes, stride=1, downsample=None):\n",
    "        super(BasicBlock, self).__init__()\n",
    "        self.relu = nn.ReLU(inplace=True)\n",
    "        self.conv1 = conv3x3(inplanes, planes, stride)\n",
    "        self.bn1 = nn.BatchNorm2d(planes)\n",
    "        self.conv2 = conv3x3(planes, planes)\n",
    "        self.bn2 = nn.BatchNorm2d(planes)\n",
    "        self.downsample = downsample\n",
    "        \n",
    "    def forward(self, x):\n",
    "        identity = x\n",
    "\n",
    "        out = self.conv1(x)\n",
    "        out = self.bn1(out)\n",
    "        out = self.relu(out)\n",
    "\n",
    "        out = self.conv2(out)\n",
    "        out = self.bn2(out)\n",
    "        \n",
    "        if self.downsample is not None:\n",
    "            identity = self.downsample(x)\n",
    "        \n",
    "        out += identity\n",
    "        return self.relu(out)"
   ]
  },
  {
   "cell_type": "code",
   "execution_count": 7,
   "id": "celtic-shopper",
   "metadata": {},
   "outputs": [],
   "source": [
    "import torch.nn as nn\n",
    "\n",
    "class ResNet20(nn.Module):\n",
    "    def __init__(self, num_classes):\n",
    "        super(ResNet20, self).__init__()\n",
    "        \n",
    "        self.convolution_1 = nn.Sequential(\n",
    "            conv3x3(3, 16),\n",
    "            nn.BatchNorm2d(16),\n",
    "            nn.ReLU()\n",
    "        )\n",
    "        \n",
    "        self.convolutional_layer_1 = self.make_layer(16, 16, 3, 1)\n",
    "        self.convolutional_layer_2 = self.make_layer(16, 32, 3, 2)\n",
    "        self.convolutional_layer_3 = self.make_layer(32, 64, 3, 2)    \n",
    "        \n",
    "        self.avgPool2d = nn.AvgPool2d(kernel_size=(2, 2), stride=2)\n",
    "        self.linear = nn.Linear(4*4*64, num_classes)\n",
    "        \n",
    "    def forward(self, x):\n",
    "        # Start Convolutional Layers\n",
    "        x = self.convolution_1(x)\n",
    "        x = self.convolutional_layer_1(x)\n",
    "        x = self.convolutional_layer_2(x)\n",
    "        x = self.convolutional_layer_3(x)\n",
    "        x = self.avgPool2d(x)\n",
    "        \n",
    "        # Flatten input\n",
    "        x = torch.flatten(x, 1)\n",
    "        \n",
    "        # Start Neural Network\n",
    "        x = self.linear(x)\n",
    "        return x\n",
    "    \n",
    "    def make_layer(self, inplanes, planes, blocks, stride=1):\n",
    "        layer = []\n",
    "        downsample = None\n",
    "        \n",
    "        if stride != 1 or inplanes != planes:\n",
    "            downsample = nn.Sequential(\n",
    "                conv1x1(inplanes, planes, stride=stride),\n",
    "                nn.BatchNorm2d(planes),\n",
    "            )\n",
    "        \n",
    "        # Add first block\n",
    "        layer.append(BasicBlock(inplanes, planes, stride, downsample))\n",
    "        \n",
    "        # Add the rest of the blocks\n",
    "        for _ in range(1, blocks):\n",
    "            layer.append(BasicBlock(planes, planes))\n",
    "            \n",
    "        return nn.Sequential(*layer)\n",
    "\n",
    "model = ResNet20(len(classes))"
   ]
  },
  {
   "cell_type": "code",
   "execution_count": 8,
   "id": "spread-index",
   "metadata": {},
   "outputs": [],
   "source": [
    "def initialize_weights(m):\n",
    "    if isinstance(m, nn.Conv2d):\n",
    "        nn.init.kaiming_uniform_(m.weight.data, nonlinearity='relu')\n",
    "        if m.bias != None:\n",
    "            nn.init.constant_(m.bias.data, 0)\n",
    "    elif isinstance(m, nn.BatchNorm2d):\n",
    "        nn.init.constant_(m.weight.data, 1)\n",
    "        nn.init.constant_(m.bias.data, 0)\n",
    "    elif isinstance(m, nn.Linear):\n",
    "        nn.init.kaiming_uniform_(m.weight.data)\n",
    "        nn.init.constant_(m.bias.data, 0)"
   ]
  },
  {
   "cell_type": "code",
   "execution_count": 9,
   "id": "unexpected-people",
   "metadata": {},
   "outputs": [],
   "source": [
    "model.apply(initialize_weights)\n",
    "criterion = nn.CrossEntropyLoss()\n",
    "\n",
    "#model.load_state_dict(torch.load(\"ResNet20.pt\"))"
   ]
  },
  {
   "cell_type": "code",
   "execution_count": 32,
   "id": "criminal-saturday",
   "metadata": {},
   "outputs": [],
   "source": [
    "optimizer = torch.optim.SGD(model.parameters(), lr=0.06, momentum=0.9, weight_decay=0.0001)\n",
    "#optimizer = torch.optim.Adam(model.parameters(), lr=0.005)"
   ]
  },
  {
   "cell_type": "code",
   "execution_count": 11,
   "id": "looking-arizona",
   "metadata": {},
   "outputs": [],
   "source": [
    "import json\n",
    "def load_file(load=True):\n",
    "    try:\n",
    "        if load:\n",
    "            with open('model_score.json', 'r') as f:\n",
    "                return json.load(f)\n",
    "    except:\n",
    "        pass\n",
    "    \n",
    "    return {\n",
    "        'Batch-Size': batch_size,\n",
    "        'Epochs': 0,\n",
    "        'Train-Accuracy': [],\n",
    "        'Test-Accuracy': [],\n",
    "        'Loss': [],\n",
    "    }\n",
    "\n",
    "def save_file(score):\n",
    "    json_object = json.dumps(score, indent = 4)\n",
    "    with open(\"model_score.json\", \"w\") as file:\n",
    "        file.write(json_object)"
   ]
  },
  {
   "cell_type": "code",
   "execution_count": 13,
   "id": "dimensional-gabriel",
   "metadata": {},
   "outputs": [],
   "source": [
    "from torch.utils.data import DataLoader, TensorDataset\n",
    "\n",
    "batch_size = 32\n",
    "\n",
    "trainset = TensorDataset(x_train, y_train)\n",
    "testset = TensorDataset(x_test, y_test)\n",
    "\n",
    "train_loader = DataLoader(trainset, batch_size=batch_size, shuffle=True)\n",
    "test_loader = DataLoader(testset, shuffle=True)"
   ]
  },
  {
   "cell_type": "code",
   "execution_count": 14,
   "id": "norman-laptop",
   "metadata": {},
   "outputs": [],
   "source": [
    "score = load_file(False)\n",
    "score['Batch-Size'] = batch_size"
   ]
  },
  {
   "cell_type": "code",
   "execution_count": 33,
   "id": "banner-cherry",
   "metadata": {},
   "outputs": [
    {
     "name": "stdout",
     "output_type": "stream",
     "text": [
      "Epoch [1/5] Loss: 0.3275 Train-Accuracy: 88.889 Test-Accuracy: 64.676\n",
      "Epoch [2/5] Loss: 0.2742 Train-Accuracy: 90.308 Test-Accuracy: 64.867\n",
      "Epoch [3/5] Loss: 0.2701 Train-Accuracy: 90.505 Test-Accuracy: 62.961\n",
      "Epoch [4/5] Loss: 0.2713 Train-Accuracy: 90.604 Test-Accuracy: 62.706\n",
      "Epoch [5/5] Loss: 0.2255 Train-Accuracy: 92.263 Test-Accuracy: 61.563\n"
     ]
    }
   ],
   "source": [
    "model.train()\n",
    "iterations = 5\n",
    "\n",
    "for epoch in range(iterations):\n",
    "    \n",
    "    correct = 0.0\n",
    "    running_loss = 0.0\n",
    "    \n",
    "    try:\n",
    "        for i, (x_batch, y_batch) in enumerate(train_loader):\n",
    "            optimizer.zero_grad()\n",
    "            y_batch_pred = model(x_batch)\n",
    "            loss = criterion(y_batch_pred, y_batch)\n",
    "            \n",
    "            loss.backward()\n",
    "            optimizer.step()\n",
    "\n",
    "            running_loss += loss.item()\n",
    "\n",
    "            preds = y_batch_pred.max(dim = 1)[1]\n",
    "            correct += (preds == y_batch).float().sum()\n",
    "\n",
    "        epoch_loss = float(running_loss / i)\n",
    "        train_acc = float(100 * correct / len(trainset))\n",
    "        \n",
    "        with torch.no_grad():\n",
    "            y_test_pred = model(x_test)\n",
    "            preds = y_test_pred.max(dim = 1)[1]\n",
    "            test_acc = float(100 * (preds == y_test).float().sum() / len(y_test))\n",
    "        \n",
    "        score['Train-Accuracy'].append(train_acc)\n",
    "        score['Test-Accuracy'].append(test_acc)\n",
    "        score['Loss'].append(epoch_loss)\n",
    "        score['Epochs'] += 1\n",
    "\n",
    "        print('Epoch [%d/%d] Loss: %.4f Train-Accuracy: %.3f Test-Accuracy: %.3f' % (epoch+1, iterations, epoch_loss, train_acc, test_acc))\n",
    "    except KeyboardInterrupt:\n",
    "        break"
   ]
  },
  {
   "cell_type": "code",
   "execution_count": 43,
   "id": "champion-commissioner",
   "metadata": {},
   "outputs": [],
   "source": [
    "save_file(score)"
   ]
  },
  {
   "cell_type": "code",
   "execution_count": 44,
   "id": "finite-terror",
   "metadata": {
    "scrolled": true
   },
   "outputs": [
    {
     "name": "stdout",
     "output_type": "stream",
     "text": [
      "astilbe: 46.154\n",
      "bellflower: 64.516\n",
      "black_eyed_susan: 62.069\n",
      "calendula: 34.409\n",
      "california_poppy: 53.636\n",
      "carnation: 30.303\n",
      "common_daisy: 71.171\n",
      "coreopsis: 73.333\n",
      "daffodil: 83.133\n",
      "dandelion: 69.912\n",
      "iris: 69.167\n",
      "magnolia: 57.658\n",
      "rose: 48.315\n",
      "sunflower: 79.208\n",
      "tulip: 89.000\n",
      "water_lily: 48.936\n",
      "Total Accuracy score: 61.881%\n"
     ]
    }
   ],
   "source": [
    "# Calculate class accuracies\n",
    "with torch.no_grad():\n",
    "    output = model(x_test)\n",
    "    preds = output.max(dim = 1)[1]\n",
    "\n",
    "    test_acc = (preds == y_test)\n",
    "    for key, value in classes.items():\n",
    "        c = (test_acc * (y_test == key)).float().sum()\n",
    "        class_acc = float(100 * c / (y_test == key).float().sum())\n",
    "        print('%s: %.3f' % (value, class_acc))\n",
    "    \n",
    "    print(\"Total Accuracy score: {0:.3f}%\".format(test_acc.float().sum()/len(test_acc)*100))"
   ]
  },
  {
   "cell_type": "code",
   "execution_count": 45,
   "id": "authorized-grenada",
   "metadata": {},
   "outputs": [
    {
     "name": "stdout",
     "output_type": "stream",
     "text": [
      "Image of a astilbe predicted to 62.501% of class astilbe\n",
      "Image of a water_lily predicted to 99.935% of class water_lily\n",
      "Image of a bellflower predicted to 82.61% of class magnolia\n"
     ]
    },
    {
     "data": {
      "image/png": "[encoded data removed]",
      "text/plain": [
       "<Figure size 432x288 with 1 Axes>"
      ]
     },
     "metadata": {
      "needs_background": "light"
     },
     "output_type": "display_data"
    }
   ],
   "source": [
    "from random import randint\n",
    "\n",
    "def predict_image(tensor):\n",
    "    model.eval()\n",
    "    with torch.no_grad():\n",
    "        outputs = model(tensor)\n",
    "        prob = outputs.softmax(1)\n",
    "        return prob.topk(1, dim = 1, largest=True)\n",
    "\n",
    "def predict_random_image(amount=1):\n",
    "    for i in range(amount):\n",
    "        \n",
    "        index = randint(0, len(x_test))\n",
    "        tensor = x_test[index].unsqueeze_(0)\n",
    "        y = y_test[index]\n",
    "\n",
    "        top_p, top_class = predict_image(tensor)\n",
    "        \n",
    "        print(\"Image of a {} predicted to {}% of class {}\".format(\n",
    "            classes[y.item()],\n",
    "            str(round(top_p.item()*100, 3)),\n",
    "            classes[top_class.item()]\n",
    "        ))\n",
    "        show_image(tensor)\n",
    "        \n",
    "predict_random_image(3)"
   ]
  },
  {
   "cell_type": "code",
   "execution_count": 38,
   "id": "adjacent-carolina",
   "metadata": {},
   "outputs": [],
   "source": [
    "torch.save(model.state_dict(), \"ResNet20_Flower.pt\")"
   ]
  },
  {
   "cell_type": "code",
   "execution_count": 86,
   "id": "removable-feeding",
   "metadata": {},
   "outputs": [
    {
     "data": {
      "text/plain": [
       "Text(0, 0.5, 'Loss')"
      ]
     },
     "execution_count": 86,
     "metadata": {},
     "output_type": "execute_result"
    },
    {
     "data": {
      "image/png": "[encoded data removed]",
      "text/plain": [
       "<Figure size 936x288 with 2 Axes>"
      ]
     },
     "metadata": {
      "needs_background": "light"
     },
     "output_type": "display_data"
    }
   ],
   "source": [
    "import matplotlib.pyplot as plt\n",
    "\n",
    "fig, axs = plt.subplots(1, 2, figsize=(13, 4))\n",
    "\n",
    "x = [i for i in range(score[\"Epochs\"])]\n",
    "axs[0].plot(x, score[\"Train-Accuracy\"], label=\"Train-Accuracy\")\n",
    "axs[0].plot(x, score[\"Test-Accuracy\"], label=\"Test-Accuracy\")\n",
    "#axs[0].title(\"Accuracy after 25 epochs\")\n",
    "axs[0].legend()\n",
    "axs[0].set_xlabel(\"Epochs\")\n",
    "axs[0].set_ylabel(\"Accuracy (%)\")\n",
    "\n",
    "axs[1].plot(x, score[\"Loss\"])\n",
    "#axs[1].title(\"Loss after 25 epochs\")\n",
    "axs[1].set_xlabel(\"Epochs\")\n",
    "axs[1].set_ylabel(\"Loss\")"
   ]
  },
  {
   "cell_type": "code",
   "execution_count": null,
   "id": "beginning-girlfriend",
   "metadata": {},
   "outputs": [],
   "source": []
  }
 ],
 "metadata": {
  "kernelspec": {
   "display_name": "Python 3",
   "language": "python",
   "name": "python3"
  },
  "language_info": {
   "codemirror_mode": {
    "name": "ipython",
    "version": 3
   },
   "file_extension": ".py",
   "mimetype": "text/x-python",
   "name": "python",
   "nbconvert_exporter": "python",
   "pygments_lexer": "ipython3",
   "version": "3.9.0"
  }
 },
 "nbformat": 4,
 "nbformat_minor": 5
}
