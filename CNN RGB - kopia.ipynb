{
 "cells": [
  {
   "cell_type": "code",
   "execution_count": 1,
   "id": "fa56dc13",
   "metadata": {},
   "outputs": [],
   "source": [
    "data_dir = \"C:/Users/elev/Documents/machine learning/CNN Flowers\"\n",
    "train_path = data_dir + \"/flowers\""
   ]
  },
  {
   "cell_type": "code",
   "execution_count": 2,
   "id": "understood-adjustment",
   "metadata": {},
   "outputs": [
    {
     "name": "stderr",
     "output_type": "stream",
     "text": [
      "c:\\users\\elev\\appdata\\local\\programs\\python\\python39\\lib\\site-packages\\torchvision\\transforms\\functional.py:594: UserWarning: torch.lstsq is deprecated in favor of torch.linalg.lstsq and will be removed in a future PyTorch release.\n",
      "torch.linalg.lstsq has reversed arguments and does not return the QR decomposition in the returned tuple (although it returns other information about the problem).\n",
      "To get the qr decomposition consider using torch.linalg.qr.\n",
      "The returned solution in torch.lstsq stored the residuals of the solution in the last m - n columns of the returned value whenever m > n. In torch.linalg.lstsq, the residuals in the field 'residuals' of the returned named tuple.\n",
      "The unpacking of the solution, as in\n",
      "X, _ = torch.lstsq(B, A).solution[:A.size(1)]\n",
      "should be replaced with\n",
      "X = torch.linalg.lstsq(A, B).solution (Triggered internally at  ..\\aten\\src\\ATen\\LegacyTHFunctionsCPU.cpp:389.)\n",
      "  res = torch.lstsq(b_matrix, a_matrix)[0]\n"
     ]
    }
   ],
   "source": [
    "import cv2, os\n",
    "import torchvision.transforms as transforms\n",
    "import matplotlib.pyplot as plt\n",
    "\n",
    "transform = transforms.Compose([\n",
    "    transforms.ToTensor(),\n",
    "    transforms.Resize((32, 32)),\n",
    "    transforms.Normalize(mean=[0.5, 0.5, 0.5], std=[0.5, 0.5, 0.5])\n",
    "])\n",
    "\n",
    "augment = transforms.Compose([\n",
    "    transforms.ToTensor(),\n",
    "    transforms.Resize((32, 32)),\n",
    "    transforms.RandomRotation((0, 180)),\n",
    "    transforms.RandomPerspective(p=0.5),\n",
    "    transforms.GaussianBlur(kernel_size=(5, 9)),\n",
    "    transforms.RandomHorizontalFlip(p=0.5),\n",
    "    transforms.Normalize(mean=[0.5, 0.5, 0.5], std=[0.5, 0.5, 0.5])\n",
    "])\n",
    "\n",
    "# ResNet34; input 224x224\n",
    "# ResNet20; input 32x32\n",
    "img_size = 32\n",
    "\n",
    "aug_data = []\n",
    "data = []\n",
    "labels = []\n",
    "\n",
    "classes = {}\n",
    "\n",
    "for dirnum, dirname in enumerate(os.listdir(train_path)):\n",
    "    for filename in os.listdir(os.path.join(train_path, dirname)):\n",
    "        file_path = os.path.join(train_path, dirname, filename)\n",
    "        img = cv2.imread(file_path, cv2.IMREAD_COLOR)\n",
    "        #img = cv2.resize(img, (img_size, img_size), interpolation = cv2.INTER_AREA)\n",
    "        img_rgb = cv2.cvtColor(img, cv2.COLOR_BGR2RGB)        \n",
    "\n",
    "        data.append(transform(img_rgb))\n",
    "        aug_data.append(augment(img_rgb))\n",
    "        labels.append(dirnum)\n",
    "    \n",
    "    classes[dirnum] = dirname\n",
    "\n",
    "def translate_label(y, translation=classes):\n",
    "    return pd.series(y).apply(lambda y: translation[int(y)]).values"
   ]
  },
  {
   "cell_type": "code",
   "execution_count": 3,
   "id": "incredible-segment",
   "metadata": {},
   "outputs": [],
   "source": [
    "from sklearn.model_selection import train_test_split\n",
    "import torch\n",
    "\n",
    "x_train, x_test, aug_train, _, y_train, y_test = train_test_split(\n",
    "    torch.stack(data),\n",
    "    torch.stack(aug_data),\n",
    "    torch.Tensor(labels).long(),\n",
    "    test_size=0.1,\n",
    "    random_state=10\n",
    ")\n",
    "\n",
    "x_train = torch.cat((x_train, aug_train), dim=0)\n",
    "y_train = torch.cat((y_train, y_train), dim=0)"
   ]
  },
  {
   "cell_type": "code",
   "execution_count": 4,
   "id": "relative-belle",
   "metadata": {},
   "outputs": [
    {
     "data": {
      "image/png": "[encoded data removed]",
      "text/plain": [
       "<Figure size 432x288 with 1 Axes>"
      ]
     },
     "metadata": {
      "needs_background": "light"
     },
     "output_type": "display_data"
    }
   ],
   "source": [
    "import numpy as np\n",
    "from random import randint\n",
    "\n",
    "def show_image(image):\n",
    "    tensor = image.unsqueeze_(0)\n",
    "    image = np.squeeze(tensor.numpy())\n",
    "    image = (image - np.min(image)) / (np.max(image) - np.min(image))\n",
    "    image = image.transpose((1, 2, 0))\n",
    "    plt.imshow(image)\n",
    "\n",
    "index = randint(0, len(x_test)-1)\n",
    "show_image(x_train[index])"
   ]
  },
  {
   "cell_type": "code",
   "execution_count": 5,
   "id": "median-fellow",
   "metadata": {},
   "outputs": [
    {
     "name": "stdout",
     "output_type": "stream",
     "text": [
      "astilbe 1344\n",
      "bellflower 1560\n",
      "black_eyed_susan 1826\n",
      "calendula 1770\n",
      "california_poppy 1824\n",
      "carnation 1648\n",
      "common_daisy 1738\n",
      "coreopsis 1884\n",
      "daffodil 1774\n",
      "dandelion 1878\n",
      "iris 1868\n",
      "magnolia 1874\n",
      "rose 1820\n",
      "sunflower 1852\n",
      "tulip 1896\n",
      "water_lily 1776\n"
     ]
    }
   ],
   "source": [
    "for i in range(len(classes)):\n",
    "    print(classes[i], int((y_train == i).float().sum()))"
   ]
  },
  {
   "cell_type": "code",
   "execution_count": 6,
   "id": "proved-camcorder",
   "metadata": {},
   "outputs": [],
   "source": [
    "import torch.nn as nn\n",
    "\n",
    "def conv3x3(inplanes, planes, stride=1):\n",
    "    return nn.Conv2d(\n",
    "        in_channels=inplanes,\n",
    "        out_channels=planes,\n",
    "        kernel_size=(3, 3),\n",
    "        stride=stride,\n",
    "        padding=1,\n",
    "        bias=False,\n",
    "    )\n",
    "\n",
    "def conv1x1(inplanes, planes, stride=1):\n",
    "    return nn.Conv2d(\n",
    "        in_channels=inplanes,\n",
    "        out_channels=planes,\n",
    "        kernel_size=(1, 1),\n",
    "        stride=stride,\n",
    "        padding=0,\n",
    "        bias=False,\n",
    "    )\n",
    "\n",
    "class BasicBlock(nn.Module):\n",
    "    def __init__(self, inplanes, planes, stride=1, downsample=None):\n",
    "        super(BasicBlock, self).__init__()\n",
    "        self.relu = nn.ReLU(inplace=True)\n",
    "        self.conv1 = conv3x3(inplanes, planes, stride)\n",
    "        self.bn1 = nn.BatchNorm2d(planes)\n",
    "        self.conv2 = conv3x3(planes, planes)\n",
    "        self.bn2 = nn.BatchNorm2d(planes)\n",
    "        self.downsample = downsample\n",
    "        \n",
    "    def forward(self, x):\n",
    "        identity = x\n",
    "\n",
    "        out = self.conv1(x)\n",
    "        out = self.bn1(out)\n",
    "        out = self.relu(out)\n",
    "\n",
    "        out = self.conv2(out)\n",
    "        out = self.bn2(out)\n",
    "        \n",
    "        if self.downsample is not None:\n",
    "            identity = self.downsample(x)\n",
    "        \n",
    "        out += identity\n",
    "        return self.relu(out)"
   ]
  },
  {
   "cell_type": "code",
   "execution_count": 7,
   "id": "celtic-shopper",
   "metadata": {},
   "outputs": [],
   "source": [
    "import torch.nn as nn\n",
    "\n",
    "class ResNet20(nn.Module):\n",
    "    def __init__(self, num_classes):\n",
    "        super(ResNet20, self).__init__()\n",
    "        \n",
    "        self.convolution_1 = nn.Sequential(\n",
    "            conv3x3(3, 16),\n",
    "            nn.BatchNorm2d(16),\n",
    "            nn.ReLU()\n",
    "        )\n",
    "        \n",
    "        self.convolutional_layer_1 = self.make_layer(16, 16, 3, 1)\n",
    "        self.convolutional_layer_2 = self.make_layer(16, 32, 3, 2)\n",
    "        self.convolutional_layer_3 = self.make_layer(32, 64, 3, 2)    \n",
    "        \n",
    "        self.avgPool2d = nn.AvgPool2d(kernel_size=(2, 2), stride=2)\n",
    "        self.linear = nn.Linear(4*4*64, num_classes)\n",
    "        \n",
    "    def forward(self, x):\n",
    "        # Start Convolutional Layers\n",
    "        x = self.convolution_1(x)\n",
    "        x = self.convolutional_layer_1(x)\n",
    "        x = self.convolutional_layer_2(x)\n",
    "        x = self.convolutional_layer_3(x)\n",
    "        x = self.avgPool2d(x)\n",
    "        \n",
    "        # Flatten input\n",
    "        x = torch.flatten(x, 1)\n",
    "        \n",
    "        # Start Neural Network\n",
    "        x = self.linear(x)\n",
    "        return x\n",
    "    \n",
    "    def make_layer(self, inplanes, planes, blocks, stride=1):\n",
    "        layer = []\n",
    "        downsample = None\n",
    "        \n",
    "        if stride != 1 or inplanes != planes:\n",
    "            downsample = nn.Sequential(\n",
    "                conv1x1(inplanes, planes, stride=stride),\n",
    "                nn.BatchNorm2d(planes),\n",
    "            )\n",
    "        \n",
    "        # Add first block\n",
    "        layer.append(BasicBlock(inplanes, planes, stride, downsample))\n",
    "        \n",
    "        # Add the rest of the blocks\n",
    "        for _ in range(1, blocks):\n",
    "            layer.append(BasicBlock(planes, planes))\n",
    "            \n",
    "        return nn.Sequential(*layer)\n",
    "\n",
    "model = ResNet20(len(classes))"
   ]
  },
  {
   "cell_type": "code",
   "execution_count": 8,
   "id": "completed-southeast",
   "metadata": {},
   "outputs": [],
   "source": [
    "import torch.nn as nn\n",
    "\n",
    "class ResNet34(nn.Module):\n",
    "    def __init__(self, num_classes):\n",
    "        super(ResNet34, self).__init__()\n",
    "        \n",
    "        self.convolution_1 = nn.Sequential(\n",
    "            nn.Conv2d(in_channels=3, out_channels=64, kernel_size=(7, 7), stride=2, padding=3),\n",
    "            nn.BatchNorm2d(64),\n",
    "            nn.ReLU(),\n",
    "            nn.MaxPool2d(kernel_size=(3,3), stride=2, padding=1)\n",
    "        )\n",
    "        \n",
    "        self.convolutional_layer_1 = self.make_layer(64, 64, 3, 1)\n",
    "        self.convolutional_layer_2 = self.make_layer(64, 128, 3, 2)\n",
    "        self.convolutional_layer_3 = self.make_layer(128, 256, 3, 2)\n",
    "        self.convolutional_layer_4 = self.make_layer(256, 512, 3, 2)\n",
    "        \n",
    "        self.avgPool2d = nn.AvgPool2d(kernel_size=(4,4), stride=2, padding=0)\n",
    "        self.linear = nn.Linear(2*2*512, num_classes)\n",
    "        \n",
    "    def forward(self, x):\n",
    "        # Start Convolutional Layers\n",
    "        x = self.convolution_1(x)\n",
    "        x = self.convolutional_layer_1(x)\n",
    "        x = self.convolutional_layer_2(x)\n",
    "        x = self.convolutional_layer_3(x)\n",
    "        x = self.convolutional_layer_4(x)\n",
    "        x = self.avgPool2d(x)\n",
    "        \n",
    "        # Flatten input\n",
    "        x = torch.flatten(x, 1)\n",
    "        \n",
    "        # Start Neural Network\n",
    "        x = self.linear(x)\n",
    "        return x\n",
    "    \n",
    "    def make_layer(self, inplanes, planes, blocks, stride=1):\n",
    "        layer = []\n",
    "        downsample = None\n",
    "        \n",
    "        if stride != 1 or inplanes != planes:\n",
    "            downsample = nn.Sequential(\n",
    "                conv1x1(inplanes, planes, stride=stride),\n",
    "                nn.BatchNorm2d(planes),\n",
    "            )\n",
    "        \n",
    "        # Add first layer\n",
    "        layer.append(BasicBlock(inplanes, planes, stride, downsample))\n",
    "        \n",
    "        # Add the rest of the layers\n",
    "        for _ in range(1, blocks):\n",
    "            layer.append(BasicBlock(planes, planes))\n",
    "            \n",
    "        return nn.Sequential(*layer)\n",
    "\n",
    "model = ResNet34(len(classes))"
   ]
  },
  {
   "cell_type": "code",
   "execution_count": 8,
   "id": "spread-index",
   "metadata": {},
   "outputs": [],
   "source": [
    "def initialize_weights(m):\n",
    "    if isinstance(m, nn.Conv2d):\n",
    "        nn.init.kaiming_uniform_(m.weight.data, nonlinearity='relu')\n",
    "        if m.bias != None:\n",
    "            nn.init.constant_(m.bias.data, 0)\n",
    "    elif isinstance(m, nn.BatchNorm2d):\n",
    "        nn.init.constant_(m.weight.data, 1)\n",
    "        nn.init.constant_(m.bias.data, 0)\n",
    "    elif isinstance(m, nn.Linear):\n",
    "        nn.init.kaiming_uniform_(m.weight.data)\n",
    "        nn.init.constant_(m.bias.data, 0)"
   ]
  },
  {
   "cell_type": "code",
   "execution_count": 10,
   "id": "unexpected-people",
   "metadata": {},
   "outputs": [
    {
     "data": {
      "text/plain": [
       "<All keys matched successfully>"
      ]
     },
     "execution_count": 10,
     "metadata": {},
     "output_type": "execute_result"
    }
   ],
   "source": [
    "model.apply(initialize_weights)\n",
    "criterion = nn.CrossEntropyLoss()\n",
    "\n",
    "model.load_state_dict(torch.load(\"ResNet20_Augmented.pt\"))"
   ]
  },
  {
   "cell_type": "code",
   "execution_count": 11,
   "id": "criminal-saturday",
   "metadata": {},
   "outputs": [],
   "source": [
    "optimizer = torch.optim.SGD(model.parameters(), lr=0.05, momentum=0.9, weight_decay=0.0001)\n",
    "#optimizer = torch.optim.Adam(model.parameters(), lr=0.005)"
   ]
  },
  {
   "cell_type": "code",
   "execution_count": 12,
   "id": "looking-arizona",
   "metadata": {},
   "outputs": [],
   "source": [
    "import json\n",
    "def load_file(load=True, filename=\"model_score\"):\n",
    "    try:\n",
    "        if load:\n",
    "            with open(filename +'.json', 'r') as f:\n",
    "                return json.load(f)\n",
    "    except:\n",
    "        pass\n",
    "    \n",
    "    return {\n",
    "        'Batch-Size': batch_size,\n",
    "        'Epochs': 0,\n",
    "        'Train-Accuracy': [],\n",
    "        'Test-Accuracy': [],\n",
    "        'Loss': [],\n",
    "    }\n",
    "\n",
    "def save_file(score, filename=\"model_score\"):\n",
    "    json_object = json.dumps(score, indent = 4)\n",
    "    with open(filename + \".json\", \"w\") as file:\n",
    "        file.write(json_object)"
   ]
  },
  {
   "cell_type": "code",
   "execution_count": 13,
   "id": "dimensional-gabriel",
   "metadata": {},
   "outputs": [],
   "source": [
    "from torch.utils.data import DataLoader, TensorDataset\n",
    "\n",
    "batch_size = 32\n",
    "\n",
    "trainset = TensorDataset(x_train, y_train)\n",
    "testset = TensorDataset(x_test, y_test)\n",
    "\n",
    "train_loader = DataLoader(trainset, batch_size=batch_size, shuffle=True)\n",
    "test_loader = DataLoader(testset, shuffle=True)"
   ]
  },
  {
   "cell_type": "code",
   "execution_count": 14,
   "id": "norman-laptop",
   "metadata": {},
   "outputs": [],
   "source": [
    "score = load_file(True, \"model_score_augmented\")\n",
    "score['Batch-Size'] = batch_size"
   ]
  },
  {
   "cell_type": "code",
   "execution_count": 16,
   "id": "banner-cherry",
   "metadata": {},
   "outputs": [
    {
     "name": "stdout",
     "output_type": "stream",
     "text": [
      "Epoch [1/1] Loss: 0.7777 Train-Accuracy: 73.369 Test-Accuracy: 65.438\n"
     ]
    }
   ],
   "source": [
    "model.train()\n",
    "iterations = 1\n",
    "\n",
    "for epoch in range(iterations):\n",
    "    \n",
    "    correct = 0.0\n",
    "    running_loss = 0.0\n",
    "    \n",
    "    try:\n",
    "        for i, (x_batch, y_batch) in enumerate(train_loader):\n",
    "            optimizer.zero_grad()\n",
    "            y_batch_pred = model(x_batch)\n",
    "            loss = criterion(y_batch_pred, y_batch)\n",
    "            \n",
    "            loss.backward()\n",
    "            optimizer.step()\n",
    "\n",
    "            running_loss += loss.item()\n",
    "\n",
    "            preds = y_batch_pred.max(dim = 1)[1]\n",
    "            correct += (preds == y_batch).float().sum()\n",
    "\n",
    "        epoch_loss = float(running_loss / i)\n",
    "        train_acc = float(100 * correct / len(trainset))\n",
    "        \n",
    "        with torch.no_grad():\n",
    "            y_test_pred = model(x_test)\n",
    "            preds = y_test_pred.max(dim = 1)[1]\n",
    "            test_acc = float(100 * (preds == y_test).float().sum() / len(y_test))\n",
    "        \n",
    "        score['Train-Accuracy'].append(train_acc)\n",
    "        score['Test-Accuracy'].append(test_acc)\n",
    "        score['Loss'].append(epoch_loss)\n",
    "        score['Epochs'] += 1\n",
    "\n",
    "        print('Epoch [%d/%d] Loss: %.4f Train-Accuracy: %.3f Test-Accuracy: %.3f' % (epoch+1, iterations, epoch_loss, train_acc, test_acc))\n",
    "    except KeyboardInterrupt:\n",
    "        break"
   ]
  },
  {
   "cell_type": "code",
   "execution_count": 17,
   "id": "champion-commissioner",
   "metadata": {},
   "outputs": [],
   "source": [
    "save_file(score, \"model_score_augmented\")"
   ]
  },
  {
   "cell_type": "code",
   "execution_count": 18,
   "id": "finite-terror",
   "metadata": {
    "scrolled": true
   },
   "outputs": [
    {
     "name": "stdout",
     "output_type": "stream",
     "text": [
      "astilbe: 73.846\n",
      "bellflower: 54.839\n",
      "black_eyed_susan: 86.207\n",
      "calendula: 51.613\n",
      "california_poppy: 50.909\n",
      "carnation: 27.273\n",
      "common_daisy: 69.369\n",
      "coreopsis: 61.905\n",
      "daffodil: 78.313\n",
      "dandelion: 74.336\n",
      "iris: 77.500\n",
      "magnolia: 58.559\n",
      "rose: 65.169\n",
      "sunflower: 90.099\n",
      "tulip: 74.000\n",
      "water_lily: 56.383\n",
      "Total Accuracy score: 65.438%\n"
     ]
    }
   ],
   "source": [
    "# Calculate class accuracies\n",
    "with torch.no_grad():\n",
    "    output = model(x_test)\n",
    "    preds = output.max(dim = 1)[1]\n",
    "\n",
    "    test_acc = (preds == y_test)\n",
    "    for key, value in classes.items():\n",
    "        c = (test_acc * (y_test == key)).float().sum()\n",
    "        class_acc = float(100 * c / (y_test == key).float().sum())\n",
    "        print('%s: %.3f' % (value, class_acc))\n",
    "    \n",
    "    print(\"Total Accuracy score: {0:.3f}%\".format(test_acc.float().sum()/len(test_acc)*100))"
   ]
  },
  {
   "cell_type": "code",
   "execution_count": 19,
   "id": "authorized-grenada",
   "metadata": {},
   "outputs": [
    {
     "name": "stdout",
     "output_type": "stream",
     "text": [
      "Image of a common_daisy predicted to 74.771% of class common_daisy\n",
      "Image of a common_daisy predicted to 93.901% of class common_daisy\n",
      "Image of a magnolia predicted to 37.751% of class astilbe\n"
     ]
    },
    {
     "data": {
      "image/png": "[encoded data removed]",
      "text/plain": [
       "<Figure size 432x288 with 1 Axes>"
      ]
     },
     "metadata": {
      "needs_background": "light"
     },
     "output_type": "display_data"
    }
   ],
   "source": [
    "from random import randint\n",
    "\n",
    "def predict_image(tensor):\n",
    "    model.eval()\n",
    "    with torch.no_grad():\n",
    "        outputs = model(tensor)\n",
    "        prob = outputs.softmax(1)\n",
    "        return prob.topk(1, dim = 1, largest=True)\n",
    "\n",
    "def predict_random_image(amount=1):\n",
    "    for i in range(amount):\n",
    "        \n",
    "        index = randint(0, len(x_test))\n",
    "        tensor = x_test[index].unsqueeze_(0)\n",
    "        y = y_test[index]\n",
    "\n",
    "        top_p, top_class = predict_image(tensor)\n",
    "        \n",
    "        print(\"Image of a {} predicted to {}% of class {}\".format(\n",
    "            classes[y.item()],\n",
    "            str(round(top_p.item()*100, 3)),\n",
    "            classes[top_class.item()]\n",
    "        ))\n",
    "        show_image(tensor)\n",
    "        \n",
    "predict_random_image(3)"
   ]
  },
  {
   "cell_type": "code",
   "execution_count": 21,
   "id": "adjacent-carolina",
   "metadata": {},
   "outputs": [],
   "source": [
    "torch.save(model.state_dict(), \"ResNet20_Augmented.pt\")"
   ]
  },
  {
   "cell_type": "code",
   "execution_count": 22,
   "id": "removable-feeding",
   "metadata": {},
   "outputs": [
    {
     "data": {
      "text/plain": [
       "Text(0, 0.5, 'Loss')"
      ]
     },
     "execution_count": 22,
     "metadata": {},
     "output_type": "execute_result"
    },
    {
     "data": {
      "image/png": "[encoded data removed]",
      "text/plain": [
       "<Figure size 936x288 with 2 Axes>"
      ]
     },
     "metadata": {
      "needs_background": "light"
     },
     "output_type": "display_data"
    }
   ],
   "source": [
    "import matplotlib.pyplot as plt\n",
    "\n",
    "fig, axs = plt.subplots(1, 2, figsize=(13, 4))\n",
    "\n",
    "x = [i for i in range(score[\"Epochs\"])]\n",
    "axs[0].plot(x, score[\"Train-Accuracy\"], label=\"Train-Accuracy\")\n",
    "axs[0].plot(x, score[\"Test-Accuracy\"], label=\"Test-Accuracy\")\n",
    "#axs[0].title(\"Accuracy after 25 epochs\")\n",
    "axs[0].legend()\n",
    "axs[0].set_xlabel(\"Epochs\")\n",
    "axs[0].set_ylabel(\"Accuracy (%)\")\n",
    "\n",
    "axs[1].plot(x, score[\"Loss\"])\n",
    "axs[1].set_xlabel(\"Epochs\")\n",
    "axs[1].set_ylabel(\"Loss\")"
   ]
  },
  {
   "cell_type": "code",
   "execution_count": null,
   "id": "beginning-girlfriend",
   "metadata": {},
   "outputs": [],
   "source": []
  }
 ],
 "metadata": {
  "kernelspec": {
   "display_name": "Python 3",
   "language": "python",
   "name": "python3"
  },
  "language_info": {
   "codemirror_mode": {
    "name": "ipython",
    "version": 3
   },
   "file_extension": ".py",
   "mimetype": "text/x-python",
   "name": "python",
   "nbconvert_exporter": "python",
   "pygments_lexer": "ipython3",
   "version": "3.9.0"
  }
 },
 "nbformat": 4,
 "nbformat_minor": 5
}
